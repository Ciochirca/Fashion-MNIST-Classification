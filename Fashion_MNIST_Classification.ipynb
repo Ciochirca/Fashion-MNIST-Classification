{
  "nbformat": 4,
  "nbformat_minor": 0,
  "metadata": {
    "colab": {
      "name": "Fashion MNIST Classification.ipynb",
      "provenance": [],
      "collapsed_sections": []
    },
    "kernelspec": {
      "name": "python3",
      "display_name": "Python 3"
    },
    "accelerator": "GPU"
  },
  "cells": [
    {
      "cell_type": "markdown",
      "metadata": {
        "id": "e3AyZnUQi915"
      },
      "source": [
        "# Problem Data\r\n",
        "\r\n",
        "In this problem we will build and train a neural network to classify images of clothing. The goal is to get the general sense of a TensorFlow project, not to catch every detail, but everything is explained along the way."
      ]
    },
    {
      "cell_type": "markdown",
      "metadata": {
        "id": "noW-6pNmjkVz"
      },
      "source": [
        "#Install and import dependencies\r\n",
        "\r\n",
        "We'll need [TensorFlow Datasets](https://www.tensorflow.org/datasets/), an API that simplifies downloading and accessing datasets, and provides several sample datasets to work with. We're also using a few helper libraries."
      ]
    },
    {
      "cell_type": "code",
      "metadata": {
        "colab": {
          "base_uri": "https://localhost:8080/"
        },
        "id": "qLOCtfdikKWf",
        "outputId": "9025db18-bae3-46b7-af75-377a37779ff2"
      },
      "source": [
        "!pip install -U tensorflow_datasets"
      ],
      "execution_count": null,
      "outputs": [
        {
          "output_type": "stream",
          "text": [
            "Collecting tensorflow_datasets\n",
            "\u001b[?25l  Downloading https://files.pythonhosted.org/packages/8b/02/c1260ff4caf483c01ce36ca45a63f05417f732d94ec42cce292355dc7ea4/tensorflow_datasets-4.1.0-py3-none-any.whl (3.6MB)\n",
            "\u001b[K     |████████████████████████████████| 3.6MB 5.8MB/s \n",
            "\u001b[?25hRequirement already satisfied, skipping upgrade: protobuf>=3.6.1 in /usr/local/lib/python3.6/dist-packages (from tensorflow_datasets) (3.12.4)\n",
            "Requirement already satisfied, skipping upgrade: numpy in /usr/local/lib/python3.6/dist-packages (from tensorflow_datasets) (1.19.4)\n",
            "Requirement already satisfied, skipping upgrade: typing-extensions; python_version < \"3.8\" in /usr/local/lib/python3.6/dist-packages (from tensorflow_datasets) (3.7.4.3)\n",
            "Requirement already satisfied, skipping upgrade: absl-py in /usr/local/lib/python3.6/dist-packages (from tensorflow_datasets) (0.10.0)\n",
            "Requirement already satisfied, skipping upgrade: dill in /usr/local/lib/python3.6/dist-packages (from tensorflow_datasets) (0.3.3)\n",
            "Requirement already satisfied, skipping upgrade: future in /usr/local/lib/python3.6/dist-packages (from tensorflow_datasets) (0.16.0)\n",
            "Requirement already satisfied, skipping upgrade: attrs>=18.1.0 in /usr/local/lib/python3.6/dist-packages (from tensorflow_datasets) (20.3.0)\n",
            "Requirement already satisfied, skipping upgrade: promise in /usr/local/lib/python3.6/dist-packages (from tensorflow_datasets) (2.3)\n",
            "Requirement already satisfied, skipping upgrade: six in /usr/local/lib/python3.6/dist-packages (from tensorflow_datasets) (1.15.0)\n",
            "Requirement already satisfied, skipping upgrade: termcolor in /usr/local/lib/python3.6/dist-packages (from tensorflow_datasets) (1.1.0)\n",
            "Requirement already satisfied, skipping upgrade: tqdm in /usr/local/lib/python3.6/dist-packages (from tensorflow_datasets) (4.41.1)\n",
            "Requirement already satisfied, skipping upgrade: importlib-resources; python_version < \"3.9\" in /usr/local/lib/python3.6/dist-packages (from tensorflow_datasets) (3.3.0)\n",
            "Requirement already satisfied, skipping upgrade: dataclasses; python_version < \"3.7\" in /usr/local/lib/python3.6/dist-packages (from tensorflow_datasets) (0.8)\n",
            "Requirement already satisfied, skipping upgrade: requests>=2.19.0 in /usr/local/lib/python3.6/dist-packages (from tensorflow_datasets) (2.23.0)\n",
            "Requirement already satisfied, skipping upgrade: tensorflow-metadata in /usr/local/lib/python3.6/dist-packages (from tensorflow_datasets) (0.26.0)\n",
            "Requirement already satisfied, skipping upgrade: setuptools in /usr/local/lib/python3.6/dist-packages (from protobuf>=3.6.1->tensorflow_datasets) (50.3.2)\n",
            "Requirement already satisfied, skipping upgrade: zipp>=0.4; python_version < \"3.8\" in /usr/local/lib/python3.6/dist-packages (from importlib-resources; python_version < \"3.9\"->tensorflow_datasets) (3.4.0)\n",
            "Requirement already satisfied, skipping upgrade: idna<3,>=2.5 in /usr/local/lib/python3.6/dist-packages (from requests>=2.19.0->tensorflow_datasets) (2.10)\n",
            "Requirement already satisfied, skipping upgrade: certifi>=2017.4.17 in /usr/local/lib/python3.6/dist-packages (from requests>=2.19.0->tensorflow_datasets) (2020.12.5)\n",
            "Requirement already satisfied, skipping upgrade: chardet<4,>=3.0.2 in /usr/local/lib/python3.6/dist-packages (from requests>=2.19.0->tensorflow_datasets) (3.0.4)\n",
            "Requirement already satisfied, skipping upgrade: urllib3!=1.25.0,!=1.25.1,<1.26,>=1.21.1 in /usr/local/lib/python3.6/dist-packages (from requests>=2.19.0->tensorflow_datasets) (1.24.3)\n",
            "Requirement already satisfied, skipping upgrade: googleapis-common-protos<2,>=1.52.0 in /usr/local/lib/python3.6/dist-packages (from tensorflow-metadata->tensorflow_datasets) (1.52.0)\n",
            "Installing collected packages: tensorflow-datasets\n",
            "  Found existing installation: tensorflow-datasets 4.0.1\n",
            "    Uninstalling tensorflow-datasets-4.0.1:\n",
            "      Successfully uninstalled tensorflow-datasets-4.0.1\n",
            "Successfully installed tensorflow-datasets-4.1.0\n"
          ],
          "name": "stdout"
        }
      ]
    },
    {
      "cell_type": "code",
      "metadata": {
        "colab": {
          "base_uri": "https://localhost:8080/"
        },
        "id": "-hzyj_zekYBN",
        "outputId": "49bd5e93-55f6-4728-e2b8-246424f9cb91"
      },
      "source": [
        "from __future__ import absolute_import, division, print_function\r\n",
        "\r\n",
        "# Import TensorFlow\r\n",
        "import tensorflow as tf\r\n",
        "\r\n",
        "# Helper libraries\r\n",
        "import math\r\n",
        "import numpy as np\r\n",
        "import matplotlib.pyplot as plt\r\n",
        "import logging\r\n",
        "logger = tf.get_logger()\r\n",
        "logger.setLevel(logging.ERROR)\r\n",
        "\r\n",
        "# Improve progress bar display\r\n",
        "import tqdm\r\n",
        "import tqdm.auto\r\n",
        "tqdm.tqdm = tqdm.auto.tqdm\r\n",
        "\r\n",
        "print(tf.__version__)"
      ],
      "execution_count": null,
      "outputs": [
        {
          "output_type": "stream",
          "text": [
            "2.4.0\n"
          ],
          "name": "stdout"
        }
      ]
    },
    {
      "cell_type": "markdown",
      "metadata": {
        "id": "jBlI53G6mLVS"
      },
      "source": [
        "# Import the fashion MNIST dataset\r\n",
        "\r\n",
        "This dataset contains 70000 grayscale images which are labeled in 10 categories. The images show individual articles of clothing at low resolution 28 x 28 pixels.\r\n",
        "\r\n",
        "This dataset is intended as a drop-in replacement for the classic MNIST dataset. The MNIST dataset contains images of handwritten digits (0, 1, 2, etc) in an identical format to the articles of clothing we'll use here.\r\n",
        "\r\n",
        "We will use 60,000 images to train the network and 10,000 images to evaluate how accurately the network learned to classify images."
      ]
    },
    {
      "cell_type": "code",
      "metadata": {
        "id": "b19PJ2QwnN33",
        "colab": {
          "base_uri": "https://localhost:8080/"
        },
        "outputId": "8c00c369-6354-467b-dc24-7b34e060140c"
      },
      "source": [
        "fashion_mnist = tf.keras.datasets.fashion_mnist\r\n",
        "(train_images, train_labels), (test_images, test_labels) = fashion_mnist.load_data()"
      ],
      "execution_count": null,
      "outputs": [
        {
          "output_type": "stream",
          "text": [
            "Downloading data from https://storage.googleapis.com/tensorflow/tf-keras-datasets/train-labels-idx1-ubyte.gz\n",
            "32768/29515 [=================================] - 0s 0us/step\n",
            "Downloading data from https://storage.googleapis.com/tensorflow/tf-keras-datasets/train-images-idx3-ubyte.gz\n",
            "26427392/26421880 [==============================] - 0s 0us/step\n",
            "Downloading data from https://storage.googleapis.com/tensorflow/tf-keras-datasets/t10k-labels-idx1-ubyte.gz\n",
            "8192/5148 [===============================================] - 0s 0us/step\n",
            "Downloading data from https://storage.googleapis.com/tensorflow/tf-keras-datasets/t10k-images-idx3-ubyte.gz\n",
            "4423680/4422102 [==============================] - 0s 0us/step\n"
          ],
          "name": "stdout"
        }
      ]
    },
    {
      "cell_type": "markdown",
      "metadata": {
        "id": "qKo0ZhNKxCNU"
      },
      "source": [
        "Loading the dataset returns metadata as well as a training dataset and testing dataset.\r\n",
        "\r\n",
        "* The model is trained using train_dataset\r\n",
        "* The model is tested using test_dataset\r\n",
        "\r\n",
        "The images are 28x28 arrays, with pixel values in the range [0, 255]. The labels are an array of integers, in the range [0, 9]. These correspond to the class of clothing the image represents.\r\n",
        "\r\n",
        "Each image is mapped in a single label. Since the class labels are not included with the dataset, store them here to use later when plotting the images."
      ]
    },
    {
      "cell_type": "code",
      "metadata": {
        "id": "iVRp9L1yzJmV"
      },
      "source": [
        "class_names = ['T-shirt/top', 'Trouser', 'Pullover', 'Dress', 'Coat',\r\n",
        "               'Sandal', 'Shirt', 'Sneaker', 'Bag', 'Ankle boot']"
      ],
      "execution_count": null,
      "outputs": []
    },
    {
      "cell_type": "markdown",
      "metadata": {
        "id": "Sj_FnsZB512M"
      },
      "source": [
        "# Explore the data\r\n",
        "\r\n",
        "Let's explore the format of the training dataset before training the model. The following shows there are 60000 images in the training dataset and each image is represented by 28x28 pixels."
      ]
    },
    {
      "cell_type": "code",
      "metadata": {
        "colab": {
          "base_uri": "https://localhost:8080/"
        },
        "id": "Dl7HJhPO6zpE",
        "outputId": "f2d89351-ff4b-4e5b-e2c7-5e8c1060fb3f"
      },
      "source": [
        "train_images.shape"
      ],
      "execution_count": null,
      "outputs": [
        {
          "output_type": "execute_result",
          "data": {
            "text/plain": [
              "(60000, 28, 28)"
            ]
          },
          "metadata": {
            "tags": []
          },
          "execution_count": 4
        }
      ]
    },
    {
      "cell_type": "markdown",
      "metadata": {
        "id": "2zq8ivsz6-W1"
      },
      "source": [
        "Likewise there are 60000 labels in the training labels dataset."
      ]
    },
    {
      "cell_type": "code",
      "metadata": {
        "colab": {
          "base_uri": "https://localhost:8080/"
        },
        "id": "12SHgEvj7CD9",
        "outputId": "1fb6268a-1ce6-4d39-c0e7-51aa78ce1248"
      },
      "source": [
        "num_train_examples = len(train_labels)\r\n",
        "print(num_train_examples)"
      ],
      "execution_count": null,
      "outputs": [
        {
          "output_type": "stream",
          "text": [
            "60000\n"
          ],
          "name": "stdout"
        }
      ]
    },
    {
      "cell_type": "markdown",
      "metadata": {
        "id": "u3GUqiHC7IIz"
      },
      "source": [
        "Each label is a number between 0 and 9"
      ]
    },
    {
      "cell_type": "code",
      "metadata": {
        "colab": {
          "base_uri": "https://localhost:8080/"
        },
        "id": "ouLrmN7l7SCs",
        "outputId": "688bb9ad-c4bb-4c08-bb2b-3ac483f712a8"
      },
      "source": [
        "train_labels"
      ],
      "execution_count": null,
      "outputs": [
        {
          "output_type": "execute_result",
          "data": {
            "text/plain": [
              "array([9, 0, 0, ..., 3, 0, 5], dtype=uint8)"
            ]
          },
          "metadata": {
            "tags": []
          },
          "execution_count": 6
        }
      ]
    },
    {
      "cell_type": "markdown",
      "metadata": {
        "id": "rB23JrLx7Xc4"
      },
      "source": [
        "There are 10,000 images in the test set. Again, each image is represented as 28x28 pixels."
      ]
    },
    {
      "cell_type": "code",
      "metadata": {
        "colab": {
          "base_uri": "https://localhost:8080/"
        },
        "id": "2JOm5ioK7b-V",
        "outputId": "3934c82f-b189-4d52-f8a3-133ccff2a7a2"
      },
      "source": [
        "test_images.shape"
      ],
      "execution_count": null,
      "outputs": [
        {
          "output_type": "execute_result",
          "data": {
            "text/plain": [
              "(10000, 28, 28)"
            ]
          },
          "metadata": {
            "tags": []
          },
          "execution_count": 7
        }
      ]
    },
    {
      "cell_type": "markdown",
      "metadata": {
        "id": "J1bsv60A7fQf"
      },
      "source": [
        "Likewise there are 10000 labels in the testing labels dataset."
      ]
    },
    {
      "cell_type": "code",
      "metadata": {
        "colab": {
          "base_uri": "https://localhost:8080/"
        },
        "id": "FtX3sz_K7kXL",
        "outputId": "629e12d3-8b34-4e13-97cf-f650b800fff8"
      },
      "source": [
        "num_test_examples = len(test_labels)\r\n",
        "print(num_test_examples)"
      ],
      "execution_count": null,
      "outputs": [
        {
          "output_type": "stream",
          "text": [
            "10000\n"
          ],
          "name": "stdout"
        }
      ]
    },
    {
      "cell_type": "markdown",
      "metadata": {
        "id": "wYtXbdJm-Oyr"
      },
      "source": [
        "# Preprocess the data\r\n",
        "\r\n",
        "The data needs to be preprocessed before training the network. If you inspect the first image in the training set you will see that pixel values fall in the range of 0 to 255."
      ]
    },
    {
      "cell_type": "code",
      "metadata": {
        "colab": {
          "base_uri": "https://localhost:8080/",
          "height": 265
        },
        "id": "T8P-rg6x-331",
        "outputId": "dc514eb1-844b-46c8-9acc-2fcce010ef00"
      },
      "source": [
        "plt.figure()\r\n",
        "plt.imshow(train_images[1])\r\n",
        "plt.colorbar()\r\n",
        "plt.grid(False)\r\n",
        "plt.show()"
      ],
      "execution_count": null,
      "outputs": [
        {
          "output_type": "display_data",
          "data": {
            "image/png": "[encoded data removed]",
            "text/plain": [
              "<Figure size 432x288 with 2 Axes>"
            ]
          },
          "metadata": {
            "tags": [],
            "needs_background": "light"
          }
        }
      ]
    },
    {
      "cell_type": "markdown",
      "metadata": {
        "id": "bBI4HKW5_Lz3"
      },
      "source": [
        "We need to scale these values in the range 0 of to 1 before feeding them to the neural network model. To do so, divide the values by 255, it is very important that both the training and the testing dataset are preprocessed the same way."
      ]
    },
    {
      "cell_type": "code",
      "metadata": {
        "id": "5PasfdOE_ohu"
      },
      "source": [
        "train_images = train_images/255.0\r\n",
        "test_images = test_images/255.0"
      ],
      "execution_count": null,
      "outputs": []
    },
    {
      "cell_type": "markdown",
      "metadata": {
        "id": "A8Cm3CEfAEK1"
      },
      "source": [
        "To verify that the data is preprocessed in the correct format and that we are ready to build and train the neural network we can display the first 25 images from the training dataset and the class name below each image."
      ]
    },
    {
      "cell_type": "code",
      "metadata": {
        "colab": {
          "base_uri": "https://localhost:8080/",
          "height": 589
        },
        "id": "_ECn5jtyAjNv",
        "outputId": "be63bc89-e05d-4bc3-ea0b-d86cca4561bc"
      },
      "source": [
        "plt.figure(figsize=(10,10))\r\n",
        "for i in range(25):\r\n",
        "  plt.subplot(5,5,i+1)\r\n",
        "  plt.xticks([])\r\n",
        "  plt.yticks([])\r\n",
        "  plt.grid(False)\r\n",
        "  plt.imshow(train_images[i], cmap=plt.cm.binary)\r\n",
        "  plt.xlabel(class_names[train_labels[i]])\r\n",
        "plt.show()"
      ],
      "execution_count": null,
      "outputs": [
        {
          "output_type": "display_data",
          "data": {
            "image/png": "[encoded data removed]",
            "text/plain": [
              "<Figure size 720x720 with 25 Axes>"
            ]
          },
          "metadata": {
            "tags": []
          }
        }
      ]
    },
    {
      "cell_type": "markdown",
      "metadata": {
        "id": "84J22jQ3CN73"
      },
      "source": [
        "# Build the model\r\n",
        "\r\n",
        "Building a neural network requires configuring the layers of the model then compiling the model.\r\n",
        "\r\n",
        "### Setup the layers\r\n",
        "\r\n",
        "The basic building block of a neural network is the layer. Layers extract representations from the data fed into them, hopefully the representations are meaningful to the problem you want to solve. Most of deep learning consists of chaining together simple layers, most layers have parameters that are learned during training."
      ]
    },
    {
      "cell_type": "code",
      "metadata": {
        "id": "DPYhz7hcDWxM"
      },
      "source": [
        "model = tf.keras.Sequential([\r\n",
        "                             tf.keras.layers.Flatten(input_shape=(28, 28)),\r\n",
        "                             tf.keras.layers.Dense(128, activation='relu'),\r\n",
        "                             tf.keras.layers.Dense(10)\r\n",
        "])"
      ],
      "execution_count": null,
      "outputs": []
    },
    {
      "cell_type": "markdown",
      "metadata": {
        "id": "NjK3mXuqEWb5"
      },
      "source": [
        "This network has 3 layers:\r\n",
        "\r\n",
        "* input tf.keras.layers.Flatten - this layer transforms the images from a 2d-array of 28x28 pixels to a 1-d array of 784 pixels (28*28); think of this layer as unstacking the rows of pixels in the image and lining them up; this layer dosen't have parameters to learn, it only reformats the data\r\n",
        "* hidden tf.keras.layers.Dense - a densely connected layer of 128 neurons (nodes) which take input from all 784 nodes in the previous layer, weighting that input according to hidden parameters which will be learned during training\r\n",
        "* output tf.keras.layers.Dense - a 10 neuron softmax layer where each node represents a piece of clothing; as in the previous example each node takes input from the 128 nodes in the layer before it, weights that input according to learned parameters and outputs a value in the range 0 to 1 representing the probability that the image belongs to that class (piece of clothing); the sum of all 10 nodes values is 1"
      ]
    },
    {
      "cell_type": "markdown",
      "metadata": {
        "id": "RjMT4zgjHB1e"
      },
      "source": [
        "# Compile the model\r\n",
        "\r\n",
        "Before the model is ready for training it need some more configuration which is done when compiling the model\r\n",
        "\r\n",
        "* loss function - algorithm for calculating model's training accuracy; when doing classification we always specify to use the sparse categorical crossentropy\r\n",
        "* optimizer - algorithm for adjusting the inner parameters of the model to minimize loss\r\n",
        "* metrics - used to monitor the training and testing steps; the following example uses accuracy, the fraction of the images that are correctly classified"
      ]
    },
    {
      "cell_type": "code",
      "metadata": {
        "id": "kdYrZgZeIYts"
      },
      "source": [
        "model.compile(optimizer='adam',\r\n",
        "              loss=tf.keras.losses.SparseCategoricalCrossentropy(from_logits=True),\r\n",
        "              metrics=['accuracy']\r\n",
        "              )"
      ],
      "execution_count": null,
      "outputs": []
    },
    {
      "cell_type": "markdown",
      "metadata": {
        "id": "JpOPdvd7JaeG"
      },
      "source": [
        "# Train the model\r\n",
        "\r\n",
        "Training the neural network model requires the following steps:\r\n",
        "\r\n",
        "1. Feed the training data to the model. In this example, the training data is in the train_images and train_labels arrays.\r\n",
        "2. The model learns to associate images and labels.\r\n",
        "3. You ask the model to make predictions about a test set—in this example, the test_images array.\r\n",
        "\r\n",
        "Verify that the predictions match the labels from the test_labels array.\r\n",
        "### Feed the model\r\n",
        "To start training, call the model.fit method so called because it \"fits\" the model to the training data:"
      ]
    },
    {
      "cell_type": "code",
      "metadata": {
        "colab": {
          "base_uri": "https://localhost:8080/"
        },
        "id": "4mDx83RrK-71",
        "outputId": "596ad85a-0c50-4322-df64-6f7e3ff6258c"
      },
      "source": [
        "model.fit(train_images, train_labels, epochs=10)"
      ],
      "execution_count": null,
      "outputs": [
        {
          "output_type": "stream",
          "text": [
            "Epoch 1/10\n",
            "1875/1875 [==============================] - 6s 2ms/step - loss: 12.1540 - accuracy: 0.6705\n",
            "Epoch 2/10\n",
            "1875/1875 [==============================] - 4s 2ms/step - loss: 0.7979 - accuracy: 0.7188\n",
            "Epoch 3/10\n",
            "1875/1875 [==============================] - 4s 2ms/step - loss: 0.6009 - accuracy: 0.7919\n",
            "Epoch 4/10\n",
            "1875/1875 [==============================] - 4s 2ms/step - loss: 0.5426 - accuracy: 0.8083\n",
            "Epoch 5/10\n",
            "1875/1875 [==============================] - 4s 2ms/step - loss: 0.5180 - accuracy: 0.8166\n",
            "Epoch 6/10\n",
            "1875/1875 [==============================] - 4s 2ms/step - loss: 0.5007 - accuracy: 0.8252\n",
            "Epoch 7/10\n",
            "1875/1875 [==============================] - 4s 2ms/step - loss: 0.4883 - accuracy: 0.8303\n",
            "Epoch 8/10\n",
            "1875/1875 [==============================] - 4s 2ms/step - loss: 0.4986 - accuracy: 0.8330\n",
            "Epoch 9/10\n",
            "1875/1875 [==============================] - 4s 2ms/step - loss: 0.4871 - accuracy: 0.8333\n",
            "Epoch 10/10\n",
            "1875/1875 [==============================] - 4s 2ms/step - loss: 0.4767 - accuracy: 0.8397\n"
          ],
          "name": "stdout"
        },
        {
          "output_type": "execute_result",
          "data": {
            "text/plain": [
              "<tensorflow.python.keras.callbacks.History at 0x7f32601d6748>"
            ]
          },
          "metadata": {
            "tags": []
          },
          "execution_count": 16
        }
      ]
    },
    {
      "cell_type": "markdown",
      "metadata": {
        "id": "-SF4odl0V-mD"
      },
      "source": [
        "# Evaluate accuracy\r\n",
        "\r\n",
        "Next, we compare how the model performs on the test dataset. Use all examples we have in the test dataset to assess accuracy."
      ]
    },
    {
      "cell_type": "code",
      "metadata": {
        "colab": {
          "base_uri": "https://localhost:8080/"
        },
        "id": "VI39YM-2WI0F",
        "outputId": "1e455ea5-5ae7-4afb-ce7d-46e05d2bcb96"
      },
      "source": [
        "test_loss, test_accuracy = model.evaluate(test_images, test_labels, verbose=2)\r\n",
        "print('\\nTest accuracy: ', test_accuracy)"
      ],
      "execution_count": null,
      "outputs": [
        {
          "output_type": "stream",
          "text": [
            "313/313 - 1s - loss: 0.5516 - accuracy: 0.8356\n",
            "\n",
            "Test accuracy:  0.8356000185012817\n"
          ],
          "name": "stdout"
        }
      ]
    },
    {
      "cell_type": "markdown",
      "metadata": {
        "id": "ZIhpJkYnZXYv"
      },
      "source": [
        "It turns out that the accuracy in on the test dataset is smaller than the accuracy on the training dataset. This is normal because your model is handling unseen data.\r\n",
        "\r\n",
        "This gap between training accuracy and test accuracy represents overfitting. Overfitting happens when a machine learning model performs worse on new, previously unseen inputs than it does on the training data. An overfitted model \"memorizes\" the noise and details in the training dataset to a point where it negatively impacts the performance of the model on the new data.\r\n",
        "\r\n",
        "Learn more about [Overfit and Underfit](https://www.tensorflow.org/tutorials/keras/overfit_and_underfit#demonstrate_overfitting)."
      ]
    },
    {
      "cell_type": "markdown",
      "metadata": {
        "id": "E5yomdqBbP1H"
      },
      "source": [
        "# Make predictions\r\n",
        "\r\n",
        "With the model trained you can use it to make predictions about some images. The models linear output are [logits](https://developers.google.com/machine-learning/glossary#logits). Attach a softmax layer to convert the logits to probabilities, which are easier to interpret."
      ]
    },
    {
      "cell_type": "code",
      "metadata": {
        "id": "wPUZEzjpcOzr"
      },
      "source": [
        "probability_model = tf.keras.Sequential([model,\r\n",
        "                                         tf.keras.layers.Softmax()])\r\n",
        "predictions = probability_model.predict(test_images)"
      ],
      "execution_count": null,
      "outputs": []
    },
    {
      "cell_type": "markdown",
      "metadata": {
        "id": "jEwXSTTVcoaz"
      },
      "source": [
        "The model has predicted the label for each image in the testing set. Let's take a look at the first prediction:"
      ]
    },
    {
      "cell_type": "code",
      "metadata": {
        "colab": {
          "base_uri": "https://localhost:8080/"
        },
        "id": "zQeNFNA3c72Y",
        "outputId": "f93b300d-9f8b-476b-e2a4-b561ecd9e1e7"
      },
      "source": [
        "predictions[0]"
      ],
      "execution_count": null,
      "outputs": [
        {
          "output_type": "execute_result",
          "data": {
            "text/plain": [
              "array([4.1935323e-21, 1.4241292e-14, 0.0000000e+00, 2.1797194e-15,\n",
              "       0.0000000e+00, 3.2660186e-03, 1.4806000e-29, 5.4443437e-03,\n",
              "       1.2471724e-19, 9.9128962e-01], dtype=float32)"
            ]
          },
          "metadata": {
            "tags": []
          },
          "execution_count": 30
        }
      ]
    },
    {
      "cell_type": "markdown",
      "metadata": {
        "id": "zGKVCvDCdMAw"
      },
      "source": [
        "A prediction is an array of 10 numbers. They represent the model's \"confidence\" that the image corresponds to each of the 10 different articles of clothing. Let's see which label has the highest confidence."
      ]
    },
    {
      "cell_type": "code",
      "metadata": {
        "colab": {
          "base_uri": "https://localhost:8080/"
        },
        "id": "O1VIE7p6dgGd",
        "outputId": "258f4cbb-0649-4fdb-db2f-2ec3477587ef"
      },
      "source": [
        "np.argmax(predictions[0])"
      ],
      "execution_count": null,
      "outputs": [
        {
          "output_type": "execute_result",
          "data": {
            "text/plain": [
              "9"
            ]
          },
          "metadata": {
            "tags": []
          },
          "execution_count": 31
        }
      ]
    },
    {
      "cell_type": "markdown",
      "metadata": {
        "id": "WBONkmN3d6Wf"
      },
      "source": [
        "So, the model is most confident that this image is an ankle boot, or class_names[9]. Examining the test label shows that this classification is correct:"
      ]
    },
    {
      "cell_type": "code",
      "metadata": {
        "colab": {
          "base_uri": "https://localhost:8080/"
        },
        "id": "TFjYR3B6d8LO",
        "outputId": "b5bfa423-ef93-4b4b-bb2e-d93b64f93274"
      },
      "source": [
        "test_labels[0]"
      ],
      "execution_count": null,
      "outputs": [
        {
          "output_type": "execute_result",
          "data": {
            "text/plain": [
              "9"
            ]
          },
          "metadata": {
            "tags": []
          },
          "execution_count": 32
        }
      ]
    },
    {
      "cell_type": "markdown",
      "metadata": {
        "id": "sBfJkru8fCgx"
      },
      "source": [
        "# Nicer output with graph\r\n",
        "\r\n",
        "We will graph this to look at the full set of 10 class predictions, but first we will define 2 functions which will help us do that."
      ]
    },
    {
      "cell_type": "code",
      "metadata": {
        "id": "xiJIaNUmfLOT"
      },
      "source": [
        "def plot_image(i, predictions_array, true_label, img):\r\n",
        "  true_label, img = true_label[i], img[i]\r\n",
        "  plt.grid(False)\r\n",
        "  plt.xticks([])\r\n",
        "  plt.yticks([])\r\n",
        "\r\n",
        "  plt.imshow(img, cmap=plt.cm.binary)\r\n",
        "\r\n",
        "  predicted_label = np.argmax(predictions_array)\r\n",
        "  if predicted_label == true_label:\r\n",
        "    color = 'blue'\r\n",
        "  else:\r\n",
        "    color = 'red'\r\n",
        "\r\n",
        "  plt.xlabel(\"{} {:2.0f}% ({})\".format(class_names[predicted_label],\r\n",
        "                                100*np.max(predictions_array),\r\n",
        "                                class_names[true_label]),\r\n",
        "                                color=color)\r\n",
        "\r\n",
        "def plot_value_array(i, predictions_array, true_label):\r\n",
        "  true_label = true_label[i]\r\n",
        "  plt.grid(False)\r\n",
        "  plt.xticks(range(10))\r\n",
        "  plt.yticks([])\r\n",
        "  thisplot = plt.bar(range(10), predictions_array, color=\"#777777\")\r\n",
        "  plt.ylim([0, 1])\r\n",
        "  predicted_label = np.argmax(predictions_array)\r\n",
        "\r\n",
        "  thisplot[predicted_label].set_color('red')\r\n",
        "  thisplot[true_label].set_color('blue')"
      ],
      "execution_count": null,
      "outputs": []
    },
    {
      "cell_type": "markdown",
      "metadata": {
        "id": "47kVwNpPhip0"
      },
      "source": [
        "# Verify predictions\r\n",
        "\r\n",
        "With the model trained, you can use it to make predictions about some images.\r\n",
        "\r\n",
        "Let's look at the 0th image, predictions, and prediction array. Correct prediction labels are blue and incorrect prediction labels are red. The number gives the percentage (out of 100) for the predicted label."
      ]
    },
    {
      "cell_type": "code",
      "metadata": {
        "colab": {
          "base_uri": "https://localhost:8080/",
          "height": 211
        },
        "id": "PbUFQ79Eh2Wf",
        "outputId": "8976b0cf-f666-4127-b2aa-44233192b3c5"
      },
      "source": [
        "i = 0\r\n",
        "plt.figure(figsize=(6,3))\r\n",
        "plt.subplot(1,2,1)\r\n",
        "plot_image(i, predictions[i], test_labels, test_images)\r\n",
        "plt.subplot(1,2,2)\r\n",
        "plot_value_array(i, predictions[i],  test_labels)\r\n",
        "plt.show()"
      ],
      "execution_count": null,
      "outputs": [
        {
          "output_type": "display_data",
          "data": {
            "image/png": "[encoded data removed]",
            "text/plain": [
              "<Figure size 432x216 with 2 Axes>"
            ]
          },
          "metadata": {
            "tags": [],
            "needs_background": "light"
          }
        }
      ]
    },
    {
      "cell_type": "code",
      "metadata": {
        "colab": {
          "base_uri": "https://localhost:8080/",
          "height": 211
        },
        "id": "67Ny7UUgieSQ",
        "outputId": "9f320027-d51a-48a0-ee95-81a1f30bdbf4"
      },
      "source": [
        "i = 12\r\n",
        "plt.figure(figsize=(6,3))\r\n",
        "plt.subplot(1,2,1)\r\n",
        "plot_image(i, predictions[i], test_labels, test_images)\r\n",
        "plt.subplot(1,2,2)\r\n",
        "plot_value_array(i, predictions[i],  test_labels)\r\n",
        "plt.show()"
      ],
      "execution_count": null,
      "outputs": [
        {
          "output_type": "display_data",
          "data": {
            "image/png": "[encoded data removed]",
            "text/plain": [
              "<Figure size 432x216 with 2 Axes>"
            ]
          },
          "metadata": {
            "tags": [],
            "needs_background": "light"
          }
        }
      ]
    },
    {
      "cell_type": "markdown",
      "metadata": {
        "id": "6UrpbtAWilBr"
      },
      "source": [
        "Let's plot several images with their predictions. Note that the model can be wrong even when very confident."
      ]
    },
    {
      "cell_type": "code",
      "metadata": {
        "colab": {
          "base_uri": "https://localhost:8080/",
          "height": 729
        },
        "id": "SfoHuQG_iq5x",
        "outputId": "12768e91-e3cf-4419-87c1-68d45f663247"
      },
      "source": [
        "# Plot the first X test images, their predicted labels, and the true labels.\r\n",
        "# Color correct predictions in blue and incorrect predictions in red.\r\n",
        "num_rows = 5\r\n",
        "num_cols = 3\r\n",
        "num_images = num_rows*num_cols\r\n",
        "plt.figure(figsize=(2*2*num_cols, 2*num_rows))\r\n",
        "for i in range(num_images):\r\n",
        "  plt.subplot(num_rows, 2*num_cols, 2*i+1)\r\n",
        "  plot_image(i, predictions[i], test_labels, test_images)\r\n",
        "  plt.subplot(num_rows, 2*num_cols, 2*i+2)\r\n",
        "  plot_value_array(i, predictions[i], test_labels)\r\n",
        "plt.tight_layout()\r\n",
        "plt.show()"
      ],
      "execution_count": null,
      "outputs": [
        {
          "output_type": "display_data",
          "data": {
            "image/png": "[encoded data removed]",
            "text/plain": [
              "<Figure size 864x720 with 30 Axes>"
            ]
          },
          "metadata": {
            "tags": [],
            "needs_background": "light"
          }
        }
      ]
    },
    {
      "cell_type": "markdown",
      "metadata": {
        "id": "bLZIk1cvkJLo"
      },
      "source": [
        "# Use the model\r\n",
        "\r\n",
        "Finally, use the trained model to make a prediction about a single image."
      ]
    },
    {
      "cell_type": "code",
      "metadata": {
        "colab": {
          "base_uri": "https://localhost:8080/"
        },
        "id": "1U3zQztIkNvr",
        "outputId": "792c2973-d1ce-4533-b1b8-4afb29e0e4c6"
      },
      "source": [
        "img = test_images[1]\r\n",
        "\r\n",
        "print(img.shape)"
      ],
      "execution_count": null,
      "outputs": [
        {
          "output_type": "stream",
          "text": [
            "(28, 28)\n"
          ],
          "name": "stdout"
        }
      ]
    },
    {
      "cell_type": "markdown",
      "metadata": {
        "id": "40wlbMCekULg"
      },
      "source": [
        "tf.keras models are optimized to make predictions on a batch, or collection, of examples at once. Accordingly, even though you're using a single image, you need to add it to a list:"
      ]
    },
    {
      "cell_type": "code",
      "metadata": {
        "colab": {
          "base_uri": "https://localhost:8080/"
        },
        "id": "4T7Gb_p4kXfP",
        "outputId": "a57f66ce-3ef8-4183-d70d-d5da392a02b8"
      },
      "source": [
        "img = (np.expand_dims(img,0))\r\n",
        "\r\n",
        "print(img.shape)"
      ],
      "execution_count": null,
      "outputs": [
        {
          "output_type": "stream",
          "text": [
            "(1, 28, 28)\n"
          ],
          "name": "stdout"
        }
      ]
    },
    {
      "cell_type": "markdown",
      "metadata": {
        "id": "hhqWrOgSkeiq"
      },
      "source": [
        "Now predict the correct label for this image:"
      ]
    },
    {
      "cell_type": "code",
      "metadata": {
        "colab": {
          "base_uri": "https://localhost:8080/"
        },
        "id": "ni_6gJYikfNy",
        "outputId": "e602cb49-f303-43af-876c-141b6db007fc"
      },
      "source": [
        "predictions_single = probability_model.predict(img)\r\n",
        "\r\n",
        "print(predictions_single)"
      ],
      "execution_count": null,
      "outputs": [
        {
          "output_type": "stream",
          "text": [
            "[[2.6712738e-02 1.8633312e-02 7.6235992e-01 7.2877998e-03 1.0973957e-01\n",
            "  3.2545213e-11 7.5096406e-02 9.2013618e-38 1.7027922e-04 1.0200547e-19]]\n"
          ],
          "name": "stdout"
        }
      ]
    },
    {
      "cell_type": "code",
      "metadata": {
        "colab": {
          "base_uri": "https://localhost:8080/",
          "height": 300
        },
        "id": "tin3zUWykk4_",
        "outputId": "bd4bca5a-3aa7-4b33-c83f-61a99cf5ac2f"
      },
      "source": [
        "plot_value_array(1, predictions_single[0], test_labels)\r\n",
        "_ = plt.xticks(range(10), class_names, rotation=45)"
      ],
      "execution_count": null,
      "outputs": [
        {
          "output_type": "display_data",
          "data": {
            "image/png": "[encoded data removed]",
            "text/plain": [
              "<Figure size 432x288 with 1 Axes>"
            ]
          },
          "metadata": {
            "tags": [],
            "needs_background": "light"
          }
        }
      ]
    },
    {
      "cell_type": "markdown",
      "metadata": {
        "id": "gsvaFTkHkuR1"
      },
      "source": [
        "tf.keras.Model.predict returns a list of lists—one list for each image in the batch of data. Grab the predictions for our (only) image in the batch:"
      ]
    },
    {
      "cell_type": "code",
      "metadata": {
        "colab": {
          "base_uri": "https://localhost:8080/"
        },
        "id": "lulgcwuFkvNP",
        "outputId": "6cd46f37-ab80-4153-a466-5c93d1bd6c25"
      },
      "source": [
        "np.argmax(predictions_single[0])"
      ],
      "execution_count": null,
      "outputs": [
        {
          "output_type": "execute_result",
          "data": {
            "text/plain": [
              "2"
            ]
          },
          "metadata": {
            "tags": []
          },
          "execution_count": 41
        }
      ]
    }
  ]
}